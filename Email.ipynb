{
 "cells": [
  {
   "cell_type": "markdown",
   "metadata": {},
   "source": [
    "# Email sending using python"
   ]
  },
  {
   "cell_type": "code",
   "execution_count": 4,
   "metadata": {},
   "outputs": [
    {
     "name": "stdout",
     "output_type": "stream",
     "text": [
      "Requirement already satisfied: emails in c:\\users\\dell\\anaconda3\\lib\\site-packages (0.6)\n",
      "Requirement already satisfied: python-dateutil in c:\\users\\dell\\anaconda3\\lib\\site-packages (from emails) (2.8.1)\n",
      "Requirement already satisfied: chardet in c:\\users\\dell\\anaconda3\\lib\\site-packages (from emails) (3.0.4)\n",
      "Requirement already satisfied: lxml in c:\\users\\dell\\anaconda3\\lib\\site-packages (from emails) (4.6.1)\n",
      "Requirement already satisfied: requests in c:\\users\\dell\\anaconda3\\lib\\site-packages (from emails) (2.24.0)\n",
      "Requirement already satisfied: cssutils in c:\\users\\dell\\anaconda3\\lib\\site-packages (from emails) (1.0.2)\n",
      "Requirement already satisfied: premailer in c:\\users\\dell\\anaconda3\\lib\\site-packages (from emails) (3.7.0)\n",
      "Requirement already satisfied: six>=1.5 in c:\\users\\dell\\anaconda3\\lib\\site-packages (from python-dateutil->emails) (1.15.0)\n",
      "Requirement already satisfied: idna<3,>=2.5 in c:\\users\\dell\\anaconda3\\lib\\site-packages (from requests->emails) (2.10)\n",
      "Requirement already satisfied: certifi>=2017.4.17 in c:\\users\\dell\\anaconda3\\lib\\site-packages (from requests->emails) (2020.6.20)\n",
      "Requirement already satisfied: urllib3!=1.25.0,!=1.25.1,<1.26,>=1.21.1 in c:\\users\\dell\\anaconda3\\lib\\site-packages (from requests->emails) (1.25.11)\n",
      "Requirement already satisfied: cachetools in c:\\users\\dell\\anaconda3\\lib\\site-packages (from premailer->emails) (4.2.0)\n",
      "Requirement already satisfied: cssselect in c:\\users\\dell\\anaconda3\\lib\\site-packages (from premailer->emails) (1.1.0)\n"
     ]
    }
   ],
   "source": [
    "!pip install emails"
   ]
  },
  {
   "cell_type": "code",
   "execution_count": 5,
   "metadata": {},
   "outputs": [],
   "source": [
    "import emails"
   ]
  },
  {
   "cell_type": "code",
   "execution_count": 6,
   "metadata": {},
   "outputs": [],
   "source": [
    "def sendMail(email):\n",
    "    html_text = '''<p><span style=\"font-family: Tahoma,Geneva, sans-serif;\">HEY EVERONE,&nbsp;</span></p>\n",
    "                <p><br></p>\n",
    "                <p>How are you this is <span style=\"font-family: Verdana, Geneva, sans-serif;\">JAHNAVI</span>,</p>\n",
    "                <p><br></p>\n",
    "                <p>Hope all are doing well!!</p>\n",
    "                <p><br></p>\n",
    "                <p>STAY HOME AND STAY SAFE</p>\n",
    "                <p><br></p>\n",
    "                <p>Regards,&nbsp;</p>\n",
    "                 <p><br></p>\n",
    "                <p>JAHNAVI</p>\n",
    "                <p><br></p>\n",
    "                <p><br></p>\n",
    "                <p><br></p>'''\n",
    "    \n",
    "    \n",
    "\n",
    "    message = emails.html(html=html_text,\n",
    "                          subject=\"YOU HAVE EMAIL FROM JAHNAVI\" ,\n",
    "                          mail_from=('JAHNAVI', 'jahnavi@xyz.com'))\n",
    "    mail_via_python = message.send(to='vinolir186@cctyoo.com', \n",
    "                               smtp={'host': 'smtp.gmail.com', \n",
    "                                     'timeout': 5,\n",
    "                                    'port':587,\n",
    "                                    'user':'pxyz4229@gmail.com',\n",
    "                                    'password':'abcd@1234',\n",
    "                                    'tls':True})\n",
    "    \n",
    "    \n",
    "    return mail_via_python.status_code\n",
    "\n",
    "    "
   ]
  },
  {
   "cell_type": "code",
   "execution_count": 7,
   "metadata": {},
   "outputs": [
    {
     "data": {
      "text/plain": [
       "250"
      ]
     },
     "execution_count": 7,
     "metadata": {},
     "output_type": "execute_result"
    }
   ],
   "source": [
    "sendMail(\"vinolir186@cctyoo.com\")"
   ]
  },
  {
   "cell_type": "code",
   "execution_count": null,
   "metadata": {},
   "outputs": [],
   "source": []
  }
 ],
 "metadata": {
  "kernelspec": {
   "display_name": "Python 3",
   "language": "python",
   "name": "python3"
  },
  "language_info": {
   "codemirror_mode": {
    "name": "ipython",
    "version": 3
   },
   "file_extension": ".py",
   "mimetype": "text/x-python",
   "name": "python",
   "nbconvert_exporter": "python",
   "pygments_lexer": "ipython3",
   "version": "3.8.5"
  }
 },
 "nbformat": 4,
 "nbformat_minor": 4
}
